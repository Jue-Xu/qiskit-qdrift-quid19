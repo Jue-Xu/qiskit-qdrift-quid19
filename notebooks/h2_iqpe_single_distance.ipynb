{
 "cells": [
  {
   "cell_type": "markdown",
   "metadata": {},
   "source": [
    "## _*H2 ground state energy computation using Iterative QPE*_\n",
    "\n",
    "This notebook demonstrates computing and graphing the ground state energy of the Hydrogen (H2) molecule over a range of inter-atomic distances using `IQPE` (Iterative Quantum Phase Estimation) algorithm. It is compared to the ground-truth energies as computed by the `ExactEigensolver`.\n",
    "\n",
    "This notebook has been written to use the PYSCF chemistry driver. See the PYSCF chemistry driver readme if you need to install the external PySCF library that this driver requires.\n",
    "\n",
    "First we define the `compute_energy` method, which contains the H2 molecule definition as well as the computation of its ground energy given the desired `distance` and `algorithm` (`i` is just a helper index for parallel computation to speed things up)."
   ]
  },
  {
   "cell_type": "code",
   "execution_count": 19,
   "metadata": {},
   "outputs": [],
   "source": [
    "import pylab\n",
    "import time\n",
    "import numpy as np\n",
    "import multiprocessing as mp\n",
    "from qiskit import BasicAer\n",
    "from qiskit.aqua import QuantumInstance, AquaError\n",
    "from qiskit.aqua.operators import Z2Symmetries\n",
    "from qiskit.aqua.operators.op_converter import to_weighted_pauli_operator\n",
    "from qiskit.aqua.algorithms.single_sample import IQPE\n",
    "from qiskit.aqua.algorithms.single_sample import QPE\n",
    "from qiskit.aqua.components.iqfts import Standard\n",
    "from qiskit.aqua.algorithms.classical import ExactEigensolver\n",
    "from qiskit.chemistry import FermionicOperator\n",
    "from qiskit.chemistry.aqua_extensions.components.initial_states import HartreeFock\n",
    "from qiskit.chemistry.drivers import PySCFDriver, UnitsType\n",
    "\n",
    "def compute_energy(i, distance, algorithm):\n",
    "    try:\n",
    "        driver = PySCFDriver(\n",
    "            atom='H .0 .0 .0; H .0 .0 {}'.format(distance),\n",
    "            unit=UnitsType.ANGSTROM,\n",
    "            charge=0,\n",
    "            spin=0,\n",
    "            basis='sto3g'\n",
    "        )\n",
    "    except:\n",
    "        raise AquaError('PYSCF driver does not appear to be installed')\n",
    "    molecule = driver.run()\n",
    "    qubit_mapping = 'parity'\n",
    "    fer_op = FermionicOperator(h1=molecule.one_body_integrals, h2=molecule.two_body_integrals)\n",
    "    qubit_op = Z2Symmetries.two_qubit_reduction(to_weighted_pauli_operator(fer_op.mapping(map_type=qubit_mapping, threshold=1e-10)), 2)\n",
    "\n",
    "    if algorithm.lower() == 'exacteigensolver':\n",
    "        exact_eigensolver = ExactEigensolver(qubit_op, k=1)\n",
    "        result = exact_eigensolver.run()\n",
    "        reference_energy = result['energy']\n",
    "    elif algorithm.lower() == 'iqpe':\n",
    "        num_particles = molecule.num_alpha + molecule.num_beta\n",
    "        two_qubit_reduction = True\n",
    "        num_orbitals = qubit_op.num_qubits + (2 if two_qubit_reduction else 0)\n",
    "\n",
    "        num_time_slices = 1\n",
    "        num_iterations = 10\n",
    "        state_in = HartreeFock(qubit_op.num_qubits, num_orbitals,\n",
    "                               num_particles, qubit_mapping, two_qubit_reduction)\n",
    "        iqpe = IQPE(qubit_op, state_in, num_time_slices, num_iterations,\n",
    "                    expansion_mode='trotter', expansion_order=1,\n",
    "                    shallow_circuit_concat=True)\n",
    "        backend = BasicAer.get_backend('statevector_simulator')\n",
    "        quantum_instance = QuantumInstance(backend)\n",
    "\n",
    "        result = iqpe.run(quantum_instance)\n",
    "    elif algorithm.lower() == 'qpe':\n",
    "        num_particles = molecule.num_alpha + molecule.num_beta\n",
    "        two_qubit_reduction = True\n",
    "        num_orbitals = qubit_op.num_qubits + (2 if two_qubit_reduction else 0)\n",
    "\n",
    "        num_time_slices = 1\n",
    "        iqft = Standard(qubit_op.num_qubits)\n",
    "        state_in = HartreeFock(qubit_op.num_qubits, num_orbitals,\n",
    "                               num_particles, qubit_mapping, two_qubit_reduction)\n",
    "        qpe = QPE(qubit_op, state_in, iqft, num_time_slices, num_ancillae=4,\n",
    "                   expansion_mode='trotter', expansion_order=1,\n",
    "                   shallow_circuit_concat=True)\n",
    "        backend = BasicAer.get_backend('statevector_simulator')\n",
    "        quantum_instance = QuantumInstance(backend)\n",
    "\n",
    "        result = qpe.run(quantum_instance)\n",
    "    else:\n",
    "        raise AquaError('Unrecognized algorithm.')\n",
    "    return i, distance, result['energy'] + molecule.nuclear_repulsion_energy, molecule.hf_energy"
   ]
  },
  {
   "cell_type": "markdown",
   "metadata": {},
   "source": [
    "Next we set up the experiment to compute H2 ground energies for a range of inter-atomic distances, in parallel."
   ]
  },
  {
   "cell_type": "code",
   "execution_count": 20,
   "metadata": {},
   "outputs": [
    {
     "name": "stdout",
     "output_type": "stream",
     "text": [
      "On algorithm iqpe\n",
      "On algorithm exacteigensolver\n",
      "On algorithm qpe\n",
      " --- complete\n",
      "Distances:  [0.5 1. ]\n",
      "Energies: [[-1.04413391 -1.09001944]\n",
      " [-1.05515979 -1.10115033]\n",
      " [-0.94999264 -1.0546658 ]]\n",
      "Hartree-Fock energies: [-1.04299627 -1.06610865]\n",
      "--- 48.1447319984436 seconds ---\n"
     ]
    }
   ],
   "source": [
    "import concurrent.futures\n",
    "import multiprocessing as mp\n",
    "\n",
    "algorithms = ['iqpe', 'exacteigensolver', 'qpe']\n",
    "start = 0.5  # Start distance\n",
    "by    = 0.5  # How much to increase distance by\n",
    "steps = 1   # Number of steps to increase by\n",
    "energies = np.empty([len(algorithms), steps+1])\n",
    "hf_energies = np.empty(steps+1)\n",
    "distances = np.empty(steps+1)\n",
    "\n",
    "start_time = time.time()\n",
    "for j in range(len(algorithms)):\n",
    "    algorithm = algorithms[j]\n",
    "    print(f'On algorithm {algorithm}')\n",
    "    for i in range(steps+1):\n",
    "        d = start + i*by/steps\n",
    "        result = compute_energy(\n",
    "            i, \n",
    "            d, \n",
    "            algorithm\n",
    "        )\n",
    "        i, d, energy, hf_energy = result\n",
    "        energies[j][i] = energy\n",
    "        hf_energies[i] = hf_energy\n",
    "        distances[i] = d\n",
    "        \n",
    "print(' --- complete')\n",
    "\n",
    "print('Distances: ', distances)\n",
    "print('Energies:', energies)\n",
    "print('Hartree-Fock energies:', hf_energies)\n",
    "\n",
    "print(\"--- %s seconds ---\" % (time.time() - start_time))"
   ]
  },
  {
   "cell_type": "markdown",
   "metadata": {},
   "source": [
    "Finally we plot the results:"
   ]
  },
  {
   "cell_type": "code",
   "execution_count": 21,
   "metadata": {},
   "outputs": [
    {
     "data": {
      "image/png": "[encoded data removed]",
      "text/plain": [
       "<Figure size 432x288 with 1 Axes>"
      ]
     },
     "metadata": {
      "needs_background": "light"
     },
     "output_type": "display_data"
    }
   ],
   "source": [
    "pylab.plot(distances, hf_energies, label='Hartree-Fock')\n",
    "for j in range(len(algorithms)):\n",
    "    pylab.plot(distances, energies[j], label=algorithms[j])\n",
    "pylab.xlabel('Interatomic distance')\n",
    "pylab.ylabel('Energy')\n",
    "pylab.title('H2 Ground State Energy')\n",
    "pylab.legend(loc='upper right')\n",
    "pylab.show()"
   ]
  },
  {
   "cell_type": "code",
   "execution_count": 13,
   "metadata": {},
   "outputs": [
    {
     "data": {
      "image/png": "[encoded data removed]",
      "text/plain": [
       "<Figure size 432x288 with 1 Axes>"
      ]
     },
     "metadata": {
      "needs_background": "light"
     },
     "output_type": "display_data"
    }
   ],
   "source": [
    "pylab.plot(distances, np.subtract(hf_energies, energies[1]), label='Hartree-Fock')\n",
    "pylab.plot(distances, np.subtract(energies[0], energies[1]), label='IQPE')\n",
    "pylab.xlabel('Interatomic distance')\n",
    "pylab.ylabel('Energy')\n",
    "pylab.title('Energy difference from ExactEigensolver')\n",
    "pylab.legend(loc='upper right')\n",
    "pylab.show()"
   ]
  },
  {
   "cell_type": "code",
   "execution_count": null,
   "metadata": {},
   "outputs": [
    {
     "name": "stdout",
     "output_type": "stream",
     "text": [
      "On algorithm qpe\n",
      "On algorithm qpe\n",
      "On algorithm qpe\n",
      "On algorithm qpe\n"
     ]
    }
   ],
   "source": [
    "import concurrent.futures\n",
    "import multiprocessing as mp\n",
    "\n",
    "algorithms = ['qpe']\n",
    "start = 0.5  # Start distance\n",
    "by    = 0.5  # How much to increase distance by\n",
    "steps = 1   # Number of steps to increase by\n",
    "reps=5\n",
    "energies = np.empty([len(algorithms), steps+1, reps])\n",
    "hf_energies = np.empty(steps+1)\n",
    "distances = np.empty(steps+1)\n",
    "\n",
    "start_time = time.time()\n",
    "for j in range(len(algorithms)):\n",
    "    for k in range(reps):\n",
    "        algorithm = algorithms[j]\n",
    "        print(f'On algorithm {algorithm}')\n",
    "        for i in range(steps+1):\n",
    "            d = start + i*by/steps\n",
    "            result = compute_energy(\n",
    "                i, \n",
    "                d, \n",
    "                algorithm\n",
    "            )\n",
    "            i, d, energy, hf_energy = result\n",
    "            energies[j][i][k] = energy\n",
    "            hf_energies[i] = hf_energy\n",
    "            distances[i] = d\n",
    "        \n",
    "print(' --- complete')\n",
    "\n",
    "print('Distances: ', distances)\n",
    "print('Energies:', energies)\n",
    "print('Hartree-Fock energies:', hf_energies)\n",
    "\n",
    "print(\"--- %s seconds ---\" % (time.time() - start_time))"
   ]
  },
  {
   "cell_type": "code",
   "execution_count": null,
   "metadata": {},
   "outputs": [],
   "source": []
  }
 ],
 "metadata": {
  "@webio": {
   "lastCommId": null,
   "lastKernelId": null
  },
  "kernelspec": {
   "display_name": "Python 3",
   "language": "python",
   "name": "python3"
  },
  "language_info": {
   "codemirror_mode": {
    "name": "ipython",
    "version": 3
   },
   "file_extension": ".py",
   "mimetype": "text/x-python",
   "name": "python",
   "nbconvert_exporter": "python",
   "pygments_lexer": "ipython3",
   "version": "3.7.2"
  }
 },
 "nbformat": 4,
 "nbformat_minor": 1
}
