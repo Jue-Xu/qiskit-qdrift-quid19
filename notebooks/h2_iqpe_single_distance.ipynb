{
 "cells": [
  {
   "attachments": {},
   "cell_type": "markdown",
   "metadata": {},
   "source": [
    "## _*H2 ground state energy computation using Iterative QPE*_\n",
    "\n",
    "This notebook demonstrates computing and graphing the ground state energy of the Hydrogen (H2) molecule over a range of inter-atomic distances using `IQPE` (Iterative Quantum Phase Estimation) algorithm. It is compared to the ground-truth energies as computed by the `ExactEigensolver`.\n",
    "\n",
    "This notebook has been written to use the PYSCF chemistry driver. See the PYSCF chemistry driver readme if you need to install the external PySCF library that this driver requires.\n",
    "\n",
    "First we define the `compute_energy` method, which contains the H2 molecule definition as well as the computation of its ground energy given the desired `distance` and `algorithm` (`i` is just a helper index for parallel computation to speed things up)."
   ]
  },
  {
   "cell_type": "code",
   "execution_count": 7,
   "metadata": {},
   "outputs": [
    {
     "ename": "ModuleNotFoundError",
     "evalue": "No module named 'qiskit.aqua'",
     "output_type": "error",
     "traceback": [
      "\u001b[0;31m---------------------------------------------------------------------------\u001b[0m",
      "\u001b[0;31mModuleNotFoundError\u001b[0m                       Traceback (most recent call last)",
      "Cell \u001b[0;32mIn[7], line 11\u001b[0m\n\u001b[1;32m      8\u001b[0m \u001b[39mfrom\u001b[39;00m \u001b[39mqiskit\u001b[39;00m\u001b[39m.\u001b[39;00m\u001b[39mopflow\u001b[39;00m\u001b[39m.\u001b[39;00m\u001b[39mprimitive_ops\u001b[39;00m\u001b[39m.\u001b[39;00m\u001b[39mtapered_pauli_sum_op\u001b[39;00m \u001b[39mimport\u001b[39;00m Z2Symmetries\n\u001b[1;32m      9\u001b[0m \u001b[39m# from qiskit.aqua.operators import Z2Symmetries\u001b[39;00m\n\u001b[1;32m     10\u001b[0m \u001b[39m# from qiskit.aqua.operators.op_converter import to_weighted_pauli_operator\u001b[39;00m\n\u001b[0;32m---> 11\u001b[0m \u001b[39mfrom\u001b[39;00m \u001b[39mqiskit\u001b[39;00m\u001b[39m.\u001b[39;00m\u001b[39maqua\u001b[39;00m\u001b[39m.\u001b[39;00m\u001b[39malgorithms\u001b[39;00m \u001b[39mimport\u001b[39;00m IQPE\n\u001b[1;32m     12\u001b[0m \u001b[39m# from qiskit.aqua.algorithms.single_sample import IQPE\u001b[39;00m\n\u001b[1;32m     13\u001b[0m \u001b[39mfrom\u001b[39;00m \u001b[39mqiskit\u001b[39;00m\u001b[39m.\u001b[39;00m\u001b[39maqua\u001b[39;00m\u001b[39m.\u001b[39;00m\u001b[39malgorithms\u001b[39;00m\u001b[39m.\u001b[39;00m\u001b[39msingle_sample\u001b[39;00m \u001b[39mimport\u001b[39;00m QPE\n",
      "\u001b[0;31mModuleNotFoundError\u001b[0m: No module named 'qiskit.aqua'"
     ]
    }
   ],
   "source": [
    "import pylab\n",
    "import time\n",
    "import numpy as np\n",
    "import multiprocessing as mp\n",
    "from qiskit import BasicAer\n",
    "from qiskit.utils.quantum_instance import QuantumInstance\n",
    "# from qiskit.aqua import QuantumInstance, AquaError\n",
    "from qiskit.opflow.primitive_ops.tapered_pauli_sum_op import Z2Symmetries\n",
    "# from qiskit.aqua.operators import Z2Symmetries\n",
    "from qiskit.aqua.algorithms import IQPE\n",
    "from qiskit.aqua.operators.op_converter import to_weighted_pauli_operator\n",
    "# from qiskit.aqua.algorithms.single_sample import IQPE\n",
    "from qiskit.aqua.algorithms.single_sample import QPE\n",
    "from qiskit.aqua.components.iqfts import Standard\n",
    "from qiskit.aqua.algorithms.classical import ExactEigensolver\n",
    "from qiskit.chemistry import FermionicOperator\n",
    "from qiskit.chemistry.aqua_extensions.components.initial_states import HartreeFock\n",
    "from qiskit.chemistry.drivers import PySCFDriver, UnitsType\n",
    "\n",
    "def compute_energy(i, distance, algorithm):\n",
    "    try:\n",
    "        driver = PySCFDriver(\n",
    "            atom='H .0 .0 .0; H .0 .0 {}'.format(distance),\n",
    "            unit=UnitsType.ANGSTROM,\n",
    "            charge=0,\n",
    "            spin=0,\n",
    "            basis='sto3g'\n",
    "        )\n",
    "    except:\n",
    "        # raise AquaError('PYSCF driver does not appear to be installed')\n",
    "        raise ValueError('error')\n",
    "    molecule = driver.run()\n",
    "    qubit_mapping = 'parity'\n",
    "    fer_op = FermionicOperator(h1=molecule.one_body_integrals, h2=molecule.two_body_integrals)\n",
    "    qubit_op = Z2Symmetries.two_qubit_reduction(to_weighted_pauli_operator(fer_op.mapping(map_type=qubit_mapping, threshold=1e-10)), 2)\n",
    "\n",
    "    if algorithm.lower() == 'exacteigensolver':\n",
    "        exact_eigensolver = ExactEigensolver(qubit_op, k=1)\n",
    "        result = exact_eigensolver.run()\n",
    "        reference_energy = result['energy']\n",
    "    elif algorithm.lower() == 'iqpe':\n",
    "        num_particles = molecule.num_alpha + molecule.num_beta\n",
    "        two_qubit_reduction = True\n",
    "        num_orbitals = qubit_op.num_qubits + (2 if two_qubit_reduction else 0)\n",
    "\n",
    "        num_time_slices = 2\n",
    "        num_iterations = 10\n",
    "        state_in = HartreeFock(qubit_op.num_qubits, num_orbitals,\n",
    "                               num_particles, qubit_mapping, two_qubit_reduction)\n",
    "        iqpe = IQPE(qubit_op, state_in, num_time_slices, num_iterations,\n",
    "                    expansion_mode='trotter', expansion_order=1,\n",
    "                    shallow_circuit_concat=True)\n",
    "#         backend = BasicAer.get_backend('statevector_simulator')\n",
    "        backend = BasicAer.get_backend('qasm_simulator')\n",
    "        quantum_instance = QuantumInstance(backend)\n",
    "\n",
    "        result = iqpe.run(quantum_instance)\n",
    "    elif algorithm.lower() == 'qpe':\n",
    "        num_particles = molecule.num_alpha + molecule.num_beta\n",
    "        two_qubit_reduction = True\n",
    "        num_orbitals = qubit_op.num_qubits + (2 if two_qubit_reduction else 0)\n",
    "\n",
    "        num_time_slices = 10\n",
    "        iqft = Standard(qubit_op.num_qubits)\n",
    "        state_in = HartreeFock(qubit_op.num_qubits, num_orbitals,\n",
    "                               num_particles, qubit_mapping, two_qubit_reduction)\n",
    "        qpe = QPE(qubit_op, state_in, iqft, num_time_slices, num_ancillae=4,\n",
    "                   expansion_mode='trotter', expansion_order=1,\n",
    "                   shallow_circuit_concat=True)\n",
    "        backend = BasicAer.get_backend('statevector_simulator')\n",
    "        quantum_instance = QuantumInstance(backend)\n",
    "\n",
    "        result = qpe.run(quantum_instance)\n",
    "    else:\n",
    "        raise AquaError('Unrecognized algorithm.')\n",
    "    return i, distance, result['energy'] + molecule.nuclear_repulsion_energy, molecule.hf_energy"
   ]
  },
  {
   "attachments": {},
   "cell_type": "markdown",
   "metadata": {},
   "source": [
    "Next we set up the experiment to compute H2 ground energies for a range of inter-atomic distances, in parallel."
   ]
  },
  {
   "cell_type": "code",
   "execution_count": 31,
   "metadata": {},
   "outputs": [
    {
     "name": "stdout",
     "output_type": "stream",
     "text": [
      "On algorithm iqpe\n",
      "On algorithm exacteigensolver\n",
      "On algorithm qpe\n",
      " --- complete\n",
      "Distances:  [0.5 1. ]\n",
      "Energies: [[-1.04413391 -1.09001944]\n",
      " [-1.05515979 -1.10115033]\n",
      " [-1.05758266 -1.1041609 ]]\n",
      "Hartree-Fock energies: [-1.04299627 -1.06610865]\n",
      "--- 573.7686002254486 seconds ---\n"
     ]
    }
   ],
   "source": [
    "import concurrent.futures\n",
    "import multiprocessing as mp\n",
    "\n",
    "algorithms = ['iqpe', 'exacteigensolver', 'qpe']\n",
    "start = 0.5  # Start distance\n",
    "by    = 0.5  # How much to increase distance by\n",
    "steps = 1   # Number of steps to increase by\n",
    "energies = np.empty([len(algorithms), steps+1])\n",
    "hf_energies = np.empty(steps+1)\n",
    "distances = np.empty(steps+1)\n",
    "\n",
    "start_time = time.time()\n",
    "for j in range(len(algorithms)):\n",
    "    algorithm = algorithms[j]\n",
    "    print(f'On algorithm {algorithm}')\n",
    "    for i in range(steps+1):\n",
    "        d = start + i*by/steps\n",
    "        result = compute_energy(\n",
    "            i, \n",
    "            d, \n",
    "            algorithm\n",
    "        )\n",
    "        i, d, energy, hf_energy = result\n",
    "        energies[j][i] = energy\n",
    "        hf_energies[i] = hf_energy\n",
    "        distances[i] = d\n",
    "        \n",
    "print(' --- complete')\n",
    "\n",
    "print('Distances: ', distances)\n",
    "print('Energies:', energies)\n",
    "print('Hartree-Fock energies:', hf_energies)\n",
    "\n",
    "print(\"--- %s seconds ---\" % (time.time() - start_time))"
   ]
  },
  {
   "attachments": {},
   "cell_type": "markdown",
   "metadata": {},
   "source": [
    "Finally we plot the results:"
   ]
  },
  {
   "cell_type": "code",
   "execution_count": 33,
   "metadata": {},
   "outputs": [
    {
     "data": {
      "image/png": "[encoded data removed]",
      "text/plain": [
       "<Figure size 432x288 with 1 Axes>"
      ]
     },
     "metadata": {
      "needs_background": "light"
     },
     "output_type": "display_data"
    }
   ],
   "source": [
    "pylab.plot(distances, hf_energies, label='Hartree-Fock')\n",
    "for j in range(len(algorithms)):\n",
    "    pylab.plot(distances, energies[j], label=algorithms[j])\n",
    "pylab.xlabel('Interatomic distance')\n",
    "pylab.ylabel('Energy')\n",
    "pylab.title('H2 Ground State Energy')\n",
    "pylab.legend(loc='upper right')\n",
    "pylab.show()"
   ]
  },
  {
   "cell_type": "code",
   "execution_count": 13,
   "metadata": {},
   "outputs": [
    {
     "data": {
      "image/png": "[encoded data removed]",
      "text/plain": [
       "<Figure size 432x288 with 1 Axes>"
      ]
     },
     "metadata": {
      "needs_background": "light"
     },
     "output_type": "display_data"
    }
   ],
   "source": [
    "pylab.plot(distances, np.subtract(hf_energies, energies[1]), label='Hartree-Fock')\n",
    "pylab.plot(distances, np.subtract(energies[0], energies[1]), label='IQPE')\n",
    "pylab.xlabel('Interatomic distance')\n",
    "pylab.ylabel('Energy')\n",
    "pylab.title('Energy difference from ExactEigensolver')\n",
    "pylab.legend(loc='upper right')\n",
    "pylab.show()"
   ]
  },
  {
   "cell_type": "code",
   "execution_count": 27,
   "metadata": {},
   "outputs": [
    {
     "name": "stdout",
     "output_type": "stream",
     "text": [
      "On algorithm qpe\n",
      "On algorithm qpe\n",
      "On algorithm qpe\n",
      "On algorithm qpe\n",
      "On algorithm qpe\n",
      " --- complete\n",
      "Distances:  [0.5 1. ]\n",
      "Energies: [[[-1.05758266 -1.05758266 -1.05758266 -1.05758266 -1.05758266]\n",
      "  [-1.1041609  -1.1041609  -1.1041609  -1.1041609  -1.1041609 ]]]\n",
      "Hartree-Fock energies: [-1.04299627 -1.06610865]\n",
      "--- 1290.376314163208 seconds ---\n"
     ]
    }
   ],
   "source": [
    "import concurrent.futures\n",
    "import multiprocessing as mp\n",
    "\n",
    "algorithms = ['qpe']\n",
    "start = 0.5  # Start distance\n",
    "by    = 0.5  # How much to increase distance by\n",
    "steps = 1   # Number of steps to increase by\n",
    "reps=5\n",
    "energies = np.empty([len(algorithms), steps+1, reps])\n",
    "hf_energies = np.empty(steps+1)\n",
    "distances = np.empty(steps+1)\n",
    "\n",
    "start_time = time.time()\n",
    "for j in range(len(algorithms)):\n",
    "    for k in range(reps):\n",
    "        algorithm = algorithms[j]\n",
    "        print(f'On algorithm {algorithm}')\n",
    "        for i in range(steps+1):\n",
    "            d = start + i*by/steps\n",
    "            result = compute_energy(\n",
    "                i, \n",
    "                d, \n",
    "                algorithm\n",
    "            )\n",
    "            i, d, energy, hf_energy = result\n",
    "            energies[j][i][k] = energy\n",
    "            hf_energies[i] = hf_energy\n",
    "            distances[i] = d\n",
    "        \n",
    "print(' --- complete')\n",
    "\n",
    "print('Distances: ', distances)\n",
    "print('Energies:', energies)\n",
    "print('Hartree-Fock energies:', hf_energies)\n",
    "\n",
    "print(\"--- %s seconds ---\" % (time.time() - start_time))"
   ]
  },
  {
   "cell_type": "code",
   "execution_count": 45,
   "metadata": {},
   "outputs": [],
   "source": [
    "from qiskit.chemistry import set_qiskit_chemistry_logging\n",
    "import logging\n",
    "set_qiskit_chemistry_logging(logging.INFO)"
   ]
  },
  {
   "cell_type": "code",
   "execution_count": 49,
   "metadata": {},
   "outputs": [
    {
     "name": "stderr",
     "output_type": "stream",
     "text": [
      "2019-09-12 22:30:32,472:qiskit.chemistry.drivers.pyscfd.integrals:INFO: PySCF kernel() converged: True, e(hf): -1.042996274540095\n",
      "2019-09-12 22:30:32,474:qiskit.chemistry.drivers.pyscfd.integrals:INFO: HF Electronic dipole moment: [-0.         -0.         -0.94486306]\n",
      "2019-09-12 22:30:32,475:qiskit.chemistry.drivers.pyscfd.integrals:INFO: Nuclear dipole moment: [0.         0.         0.94486306]\n",
      "2019-09-12 22:30:32,475:qiskit.chemistry.drivers.pyscfd.integrals:INFO: Total dipole moment: [0. 0. 0.]\n"
     ]
    },
    {
     "name": "stdout",
     "output_type": "stream",
     "text": [
      "On algorithm iqpe\n"
     ]
    },
    {
     "name": "stderr",
     "output_type": "stream",
     "text": [
      "2019-09-12 22:30:32,785:qiskit.chemistry.aqua_extensions.components.initial_states.hartree_fock:INFO: We assume that the number of alphas and betas are the same.\n",
      "2019-09-12 22:30:32,789:qiskit.aqua.quantum_instance:INFO: \n",
      "Qiskit Terra version: 0.9.0\n",
      "Backend: 'qasm_simulator (BasicAer)', with following setting:\n",
      "{'basis_gates': ['u1', 'u2', 'u3', 'cx', 'id', 'unitary'], 'coupling_map': None}\n",
      "{'pass_manager': None, 'initial_layout': None, 'seed_transpiler': None, 'optimization_level': None}\n",
      "RunConfig(max_credits=10, shots=1024)\n",
      "{'timeout': None}\n",
      "{}\n",
      "{}\n",
      "Measurement mitigation: None\n",
      "2019-09-12 22:30:32,792:qiskit.aqua.operators.common:INFO: Under shallow slicing mode, the qc.data reference is repeated shallowly. Thus, changing gates of one slice of the output circuit might affect other slices.\n",
      "2019-09-12 22:30:55,129:qiskit.aqua.algorithms.single_sample.iterative_qpe.iqpe:INFO: Reverse iteration 10 of 10 with measured bit 1\n",
      "2019-09-12 22:30:55,131:qiskit.aqua.operators.common:INFO: Under shallow slicing mode, the qc.data reference is repeated shallowly. Thus, changing gates of one slice of the output circuit might affect other slices.\n",
      "2019-09-12 22:31:06,172:qiskit.aqua.algorithms.single_sample.iterative_qpe.iqpe:INFO: Reverse iteration 9 of 10 with measured bit 0\n",
      "2019-09-12 22:31:06,174:qiskit.aqua.operators.common:INFO: Under shallow slicing mode, the qc.data reference is repeated shallowly. Thus, changing gates of one slice of the output circuit might affect other slices.\n",
      "2019-09-12 22:31:11,799:qiskit.aqua.algorithms.single_sample.iterative_qpe.iqpe:INFO: Reverse iteration 8 of 10 with measured bit 0\n",
      "2019-09-12 22:31:11,802:qiskit.aqua.operators.common:INFO: Under shallow slicing mode, the qc.data reference is repeated shallowly. Thus, changing gates of one slice of the output circuit might affect other slices.\n",
      "2019-09-12 22:31:14,513:qiskit.aqua.algorithms.single_sample.iterative_qpe.iqpe:INFO: Reverse iteration 7 of 10 with measured bit 1\n",
      "2019-09-12 22:31:14,516:qiskit.aqua.operators.common:INFO: Under shallow slicing mode, the qc.data reference is repeated shallowly. Thus, changing gates of one slice of the output circuit might affect other slices.\n",
      "2019-09-12 22:31:15,704:qiskit.aqua.algorithms.single_sample.iterative_qpe.iqpe:INFO: Reverse iteration 6 of 10 with measured bit 0\n",
      "2019-09-12 22:31:15,706:qiskit.aqua.operators.common:INFO: Under shallow slicing mode, the qc.data reference is repeated shallowly. Thus, changing gates of one slice of the output circuit might affect other slices.\n",
      "2019-09-12 22:31:16,312:qiskit.aqua.algorithms.single_sample.iterative_qpe.iqpe:INFO: Reverse iteration 5 of 10 with measured bit 1\n",
      "2019-09-12 22:31:16,314:qiskit.aqua.operators.common:INFO: Under shallow slicing mode, the qc.data reference is repeated shallowly. Thus, changing gates of one slice of the output circuit might affect other slices.\n",
      "2019-09-12 22:31:16,881:qiskit.aqua.algorithms.single_sample.iterative_qpe.iqpe:INFO: Reverse iteration 4 of 10 with measured bit 0\n",
      "2019-09-12 22:31:16,883:qiskit.aqua.operators.common:INFO: Under shallow slicing mode, the qc.data reference is repeated shallowly. Thus, changing gates of one slice of the output circuit might affect other slices.\n",
      "2019-09-12 22:31:17,063:qiskit.aqua.algorithms.single_sample.iterative_qpe.iqpe:INFO: Reverse iteration 3 of 10 with measured bit 0\n",
      "2019-09-12 22:31:17,065:qiskit.aqua.operators.common:INFO: Under shallow slicing mode, the qc.data reference is repeated shallowly. Thus, changing gates of one slice of the output circuit might affect other slices.\n",
      "2019-09-12 22:31:17,169:qiskit.aqua.algorithms.single_sample.iterative_qpe.iqpe:INFO: Reverse iteration 2 of 10 with measured bit 0\n",
      "2019-09-12 22:31:17,171:qiskit.aqua.operators.common:INFO: Under shallow slicing mode, the qc.data reference is repeated shallowly. Thus, changing gates of one slice of the output circuit might affect other slices.\n",
      "2019-09-12 22:31:17,228:qiskit.aqua.algorithms.single_sample.iterative_qpe.iqpe:INFO: Reverse iteration 1 of 10 with measured bit 0\n",
      "2019-09-12 22:31:17,433:qiskit.chemistry.drivers.pyscfd.integrals:INFO: PySCF kernel() converged: True, e(hf): -1.0661086493179366\n",
      "2019-09-12 22:31:17,435:qiskit.chemistry.drivers.pyscfd.integrals:INFO: HF Electronic dipole moment: [-0.         -0.         -1.88972612]\n",
      "2019-09-12 22:31:17,435:qiskit.chemistry.drivers.pyscfd.integrals:INFO: Nuclear dipole moment: [0.         0.         1.88972612]\n",
      "2019-09-12 22:31:17,436:qiskit.chemistry.drivers.pyscfd.integrals:INFO: Total dipole moment: [0. 0. 0.]\n",
      "2019-09-12 22:31:17,730:qiskit.chemistry.aqua_extensions.components.initial_states.hartree_fock:INFO: We assume that the number of alphas and betas are the same.\n",
      "2019-09-12 22:31:17,735:qiskit.aqua.quantum_instance:INFO: \n",
      "Qiskit Terra version: 0.9.0\n",
      "Backend: 'qasm_simulator (BasicAer)', with following setting:\n",
      "{'basis_gates': ['u1', 'u2', 'u3', 'cx', 'id', 'unitary'], 'coupling_map': None}\n",
      "{'pass_manager': None, 'initial_layout': None, 'seed_transpiler': None, 'optimization_level': None}\n",
      "RunConfig(max_credits=10, shots=1024)\n",
      "{'timeout': None}\n",
      "{}\n",
      "{}\n",
      "Measurement mitigation: None\n",
      "2019-09-12 22:31:17,739:qiskit.aqua.operators.common:INFO: Under shallow slicing mode, the qc.data reference is repeated shallowly. Thus, changing gates of one slice of the output circuit might affect other slices.\n",
      "2019-09-12 22:31:40,243:qiskit.aqua.algorithms.single_sample.iterative_qpe.iqpe:INFO: Reverse iteration 10 of 10 with measured bit 0\n",
      "2019-09-12 22:31:40,245:qiskit.aqua.operators.common:INFO: Under shallow slicing mode, the qc.data reference is repeated shallowly. Thus, changing gates of one slice of the output circuit might affect other slices.\n",
      "2019-09-12 22:31:51,468:qiskit.aqua.algorithms.single_sample.iterative_qpe.iqpe:INFO: Reverse iteration 9 of 10 with measured bit 0\n",
      "2019-09-12 22:31:51,470:qiskit.aqua.operators.common:INFO: Under shallow slicing mode, the qc.data reference is repeated shallowly. Thus, changing gates of one slice of the output circuit might affect other slices.\n",
      "2019-09-12 22:31:57,184:qiskit.aqua.algorithms.single_sample.iterative_qpe.iqpe:INFO: Reverse iteration 8 of 10 with measured bit 1\n",
      "2019-09-12 22:31:57,186:qiskit.aqua.operators.common:INFO: Under shallow slicing mode, the qc.data reference is repeated shallowly. Thus, changing gates of one slice of the output circuit might affect other slices.\n",
      "2019-09-12 22:31:59,932:qiskit.aqua.algorithms.single_sample.iterative_qpe.iqpe:INFO: Reverse iteration 7 of 10 with measured bit 0\n",
      "2019-09-12 22:31:59,934:qiskit.aqua.operators.common:INFO: Under shallow slicing mode, the qc.data reference is repeated shallowly. Thus, changing gates of one slice of the output circuit might affect other slices.\n",
      "2019-09-12 22:32:01,160:qiskit.aqua.algorithms.single_sample.iterative_qpe.iqpe:INFO: Reverse iteration 6 of 10 with measured bit 1\n",
      "2019-09-12 22:32:01,162:qiskit.aqua.operators.common:INFO: Under shallow slicing mode, the qc.data reference is repeated shallowly. Thus, changing gates of one slice of the output circuit might affect other slices.\n",
      "2019-09-12 22:32:01,775:qiskit.aqua.algorithms.single_sample.iterative_qpe.iqpe:INFO: Reverse iteration 5 of 10 with measured bit 1\n",
      "2019-09-12 22:32:01,777:qiskit.aqua.operators.common:INFO: Under shallow slicing mode, the qc.data reference is repeated shallowly. Thus, changing gates of one slice of the output circuit might affect other slices.\n",
      "2019-09-12 22:32:02,339:qiskit.aqua.algorithms.single_sample.iterative_qpe.iqpe:INFO: Reverse iteration 4 of 10 with measured bit 0\n",
      "2019-09-12 22:32:02,341:qiskit.aqua.operators.common:INFO: Under shallow slicing mode, the qc.data reference is repeated shallowly. Thus, changing gates of one slice of the output circuit might affect other slices.\n",
      "2019-09-12 22:32:02,507:qiskit.aqua.algorithms.single_sample.iterative_qpe.iqpe:INFO: Reverse iteration 3 of 10 with measured bit 0\n",
      "2019-09-12 22:32:02,509:qiskit.aqua.operators.common:INFO: Under shallow slicing mode, the qc.data reference is repeated shallowly. Thus, changing gates of one slice of the output circuit might affect other slices.\n",
      "2019-09-12 22:32:02,598:qiskit.aqua.algorithms.single_sample.iterative_qpe.iqpe:INFO: Reverse iteration 2 of 10 with measured bit 0\n"
     ]
    },
    {
     "name": "stderr",
     "output_type": "stream",
     "text": [
      "2019-09-12 22:32:02,600:qiskit.aqua.operators.common:INFO: Under shallow slicing mode, the qc.data reference is repeated shallowly. Thus, changing gates of one slice of the output circuit might affect other slices.\n",
      "2019-09-12 22:32:02,652:qiskit.aqua.algorithms.single_sample.iterative_qpe.iqpe:INFO: Reverse iteration 1 of 10 with measured bit 0\n",
      "2019-09-12 22:32:02,893:qiskit.chemistry.drivers.pyscfd.integrals:INFO: PySCF kernel() converged: True, e(hf): -1.042996274540095\n",
      "2019-09-12 22:32:02,895:qiskit.chemistry.drivers.pyscfd.integrals:INFO: HF Electronic dipole moment: [-0.         -0.         -0.94486306]\n",
      "2019-09-12 22:32:02,896:qiskit.chemistry.drivers.pyscfd.integrals:INFO: Nuclear dipole moment: [0.         0.         0.94486306]\n",
      "2019-09-12 22:32:02,896:qiskit.chemistry.drivers.pyscfd.integrals:INFO: Total dipole moment: [0. 0. 0.]\n"
     ]
    },
    {
     "name": "stdout",
     "output_type": "stream",
     "text": [
      "On algorithm exacteigensolver\n"
     ]
    },
    {
     "name": "stderr",
     "output_type": "stream",
     "text": [
      "2019-09-12 22:32:03,457:qiskit.chemistry.drivers.pyscfd.integrals:INFO: PySCF kernel() converged: True, e(hf): -1.0661086493179366\n",
      "2019-09-12 22:32:03,459:qiskit.chemistry.drivers.pyscfd.integrals:INFO: HF Electronic dipole moment: [-0.         -0.         -1.88972612]\n",
      "2019-09-12 22:32:03,460:qiskit.chemistry.drivers.pyscfd.integrals:INFO: Nuclear dipole moment: [0.         0.         1.88972612]\n",
      "2019-09-12 22:32:03,461:qiskit.chemistry.drivers.pyscfd.integrals:INFO: Total dipole moment: [0. 0. 0.]\n",
      "2019-09-12 22:32:04,016:qiskit.chemistry.drivers.pyscfd.integrals:INFO: PySCF kernel() converged: True, e(hf): -1.042996274540095\n",
      "2019-09-12 22:32:04,019:qiskit.chemistry.drivers.pyscfd.integrals:INFO: HF Electronic dipole moment: [-0.         -0.         -0.94486306]\n",
      "2019-09-12 22:32:04,020:qiskit.chemistry.drivers.pyscfd.integrals:INFO: Nuclear dipole moment: [0.         0.         0.94486306]\n",
      "2019-09-12 22:32:04,020:qiskit.chemistry.drivers.pyscfd.integrals:INFO: Total dipole moment: [0. 0. 0.]\n"
     ]
    },
    {
     "name": "stdout",
     "output_type": "stream",
     "text": [
      "On algorithm qpe\n"
     ]
    },
    {
     "name": "stderr",
     "output_type": "stream",
     "text": [
      "2019-09-12 22:32:04,323:qiskit.chemistry.aqua_extensions.components.initial_states.hartree_fock:INFO: We assume that the number of alphas and betas are the same.\n",
      "2019-09-12 22:32:04,326:qiskit.aqua.quantum_instance:INFO: statevector backend only works with shot=1, change shots from 1024 to 1.\n",
      "2019-09-12 22:32:04,328:qiskit.aqua.quantum_instance:INFO: \n",
      "Qiskit Terra version: 0.9.0\n",
      "Backend: 'statevector_simulator (BasicAer)', with following setting:\n",
      "{'basis_gates': ['u1', 'u2', 'u3', 'cx', 'id', 'unitary'], 'coupling_map': None}\n",
      "{'pass_manager': None, 'initial_layout': None, 'seed_transpiler': None, 'optimization_level': None}\n",
      "RunConfig(max_credits=10, shots=1)\n",
      "{'timeout': None}\n",
      "{}\n",
      "{}\n",
      "Measurement mitigation: None\n",
      "2019-09-12 22:32:04,331:qiskit.aqua.operators.common:INFO: Under shallow slicing mode, the qc.data reference is repeated shallowly. Thus, changing gates of one slice of the output circuit might affect other slices.\n",
      "2019-09-12 22:32:04,371:qiskit.aqua.operators.common:INFO: Under shallow slicing mode, the qc.data reference is repeated shallowly. Thus, changing gates of one slice of the output circuit might affect other slices.\n",
      "2019-09-12 22:32:04,435:qiskit.aqua.operators.common:INFO: Under shallow slicing mode, the qc.data reference is repeated shallowly. Thus, changing gates of one slice of the output circuit might affect other slices.\n",
      "2019-09-12 22:32:04,550:qiskit.aqua.operators.common:INFO: Under shallow slicing mode, the qc.data reference is repeated shallowly. Thus, changing gates of one slice of the output circuit might affect other slices.\n",
      "2019-09-12 22:32:08,021:qiskit.chemistry.drivers.pyscfd.integrals:INFO: PySCF kernel() converged: True, e(hf): -1.0661086493179366\n",
      "2019-09-12 22:32:08,023:qiskit.chemistry.drivers.pyscfd.integrals:INFO: HF Electronic dipole moment: [-0.         -0.         -1.88972612]\n",
      "2019-09-12 22:32:08,024:qiskit.chemistry.drivers.pyscfd.integrals:INFO: Nuclear dipole moment: [0.         0.         1.88972612]\n",
      "2019-09-12 22:32:08,024:qiskit.chemistry.drivers.pyscfd.integrals:INFO: Total dipole moment: [0. 0. 0.]\n",
      "2019-09-12 22:32:08,325:qiskit.chemistry.aqua_extensions.components.initial_states.hartree_fock:INFO: We assume that the number of alphas and betas are the same.\n",
      "2019-09-12 22:32:08,329:qiskit.aqua.quantum_instance:INFO: statevector backend only works with shot=1, change shots from 1024 to 1.\n",
      "2019-09-12 22:32:08,331:qiskit.aqua.quantum_instance:INFO: \n",
      "Qiskit Terra version: 0.9.0\n",
      "Backend: 'statevector_simulator (BasicAer)', with following setting:\n",
      "{'basis_gates': ['u1', 'u2', 'u3', 'cx', 'id', 'unitary'], 'coupling_map': None}\n",
      "{'pass_manager': None, 'initial_layout': None, 'seed_transpiler': None, 'optimization_level': None}\n",
      "RunConfig(max_credits=10, shots=1)\n",
      "{'timeout': None}\n",
      "{}\n",
      "{}\n",
      "Measurement mitigation: None\n",
      "2019-09-12 22:32:08,334:qiskit.aqua.operators.common:INFO: Under shallow slicing mode, the qc.data reference is repeated shallowly. Thus, changing gates of one slice of the output circuit might affect other slices.\n",
      "2019-09-12 22:32:08,374:qiskit.aqua.operators.common:INFO: Under shallow slicing mode, the qc.data reference is repeated shallowly. Thus, changing gates of one slice of the output circuit might affect other slices.\n",
      "2019-09-12 22:32:08,438:qiskit.aqua.operators.common:INFO: Under shallow slicing mode, the qc.data reference is repeated shallowly. Thus, changing gates of one slice of the output circuit might affect other slices.\n",
      "2019-09-12 22:32:08,554:qiskit.aqua.operators.common:INFO: Under shallow slicing mode, the qc.data reference is repeated shallowly. Thus, changing gates of one slice of the output circuit might affect other slices.\n"
     ]
    },
    {
     "name": "stdout",
     "output_type": "stream",
     "text": [
      " --- complete\n",
      "Distances:  [0.5 1. ]\n",
      "Energies: [[-1.05309975 -1.09709017]\n",
      " [-1.05515979 -1.10115033]\n",
      " [-0.94999264 -1.0546658 ]]\n",
      "Hartree-Fock energies: [-1.04299627 -1.06610865]\n",
      "--- 99.63679575920105 seconds ---\n"
     ]
    }
   ],
   "source": [
    "import concurrent.futures\n",
    "import multiprocessing as mp\n",
    "\n",
    "algorithms = ['iqpe', 'exacteigensolver', 'qpe']\n",
    "start = 0.5  # Start distance\n",
    "by    = 0.5  # How much to increase distance by\n",
    "steps = 1   # Number of steps to increase by\n",
    "energies = np.empty([len(algorithms), steps+1])\n",
    "hf_energies = np.empty(steps+1)\n",
    "distances = np.empty(steps+1)\n",
    "\n",
    "start_time = time.time()\n",
    "for j in range(len(algorithms)):\n",
    "    algorithm = algorithms[j]\n",
    "    print(f'On algorithm {algorithm}')\n",
    "    for i in range(steps+1):\n",
    "        d = start + i*by/steps\n",
    "        result = compute_energy(\n",
    "            i, \n",
    "            d, \n",
    "            algorithm\n",
    "        )\n",
    "        i, d, energy, hf_energy = result\n",
    "        energies[j][i] = energy\n",
    "        hf_energies[i] = hf_energy\n",
    "        distances[i] = d\n",
    "        \n",
    "print(' --- complete')\n",
    "\n",
    "print('Distances: ', distances)\n",
    "print('Energies:', energies)\n",
    "print('Hartree-Fock energies:', hf_energies)\n",
    "\n",
    "print(\"--- %s seconds ---\" % (time.time() - start_time))"
   ]
  },
  {
   "attachments": {},
   "cell_type": "markdown",
   "metadata": {},
   "source": [
    "Finally we plot the results:"
   ]
  },
  {
   "cell_type": "code",
   "execution_count": 47,
   "metadata": {},
   "outputs": [
    {
     "data": {
      "image/png": "[encoded data removed]",
      "text/plain": [
       "<Figure size 432x288 with 1 Axes>"
      ]
     },
     "metadata": {
      "needs_background": "light"
     },
     "output_type": "display_data"
    }
   ],
   "source": [
    "pylab.plot(distances, hf_energies, label='Hartree-Fock')\n",
    "for j in range(len(algorithms)):\n",
    "    pylab.plot(distances, energies[j], label=algorithms[j])\n",
    "pylab.xlabel('Interatomic distance')\n",
    "pylab.ylabel('Energy')\n",
    "pylab.title('H2 Ground State Energy')\n",
    "pylab.legend(loc='upper right')\n",
    "pylab.show()"
   ]
  },
  {
   "cell_type": "code",
   "execution_count": 37,
   "metadata": {},
   "outputs": [
    {
     "data": {
      "text/plain": [
       "[<QasmSimulatorPy('qasm_simulator') from BasicAer()>,\n",
       " <StatevectorSimulatorPy('statevector_simulator') from BasicAer()>,\n",
       " <UnitarySimulatorPy('unitary_simulator') from BasicAer()>]"
      ]
     },
     "execution_count": 37,
     "metadata": {},
     "output_type": "execute_result"
    }
   ],
   "source": [
    "BasicAer.backends()"
   ]
  },
  {
   "cell_type": "code",
   "execution_count": null,
   "metadata": {},
   "outputs": [],
   "source": []
  }
 ],
 "metadata": {
  "@webio": {
   "lastCommId": null,
   "lastKernelId": null
  },
  "kernelspec": {
   "display_name": "Python 3",
   "language": "python",
   "name": "python3"
  },
  "language_info": {
   "codemirror_mode": {
    "name": "ipython",
    "version": 3
   },
   "file_extension": ".py",
   "mimetype": "text/x-python",
   "name": "python",
   "nbconvert_exporter": "python",
   "pygments_lexer": "ipython3",
   "version": "3.10.10"
  }
 },
 "nbformat": 4,
 "nbformat_minor": 1
}
